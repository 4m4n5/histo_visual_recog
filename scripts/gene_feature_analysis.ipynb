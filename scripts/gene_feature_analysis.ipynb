{
 "cells": [
  {
   "cell_type": "code",
   "execution_count": 1,
   "metadata": {},
   "outputs": [],
   "source": [
    "import pandas as pd\n",
    "import numpy as np\n",
    "\n",
    "from scipy.stats.stats import pearsonr\n",
    "import pingouin as pg\n",
    "\n",
    "import matplotlib.pyplot as plt\n",
    "import seaborn as sns\n",
    "%matplotlib inline"
   ]
  },
  {
   "cell_type": "code",
   "execution_count": 2,
   "metadata": {},
   "outputs": [],
   "source": [
    "corr = pd.read_csv('/scratch/as3ek/histo_visual_recog/results/gene_feat_corr.csv')"
   ]
  },
  {
   "cell_type": "code",
   "execution_count": 4,
   "metadata": {},
   "outputs": [],
   "source": [
    "seq = pd.read_csv('/scratch/as3ek/histo_visual_recog/scripts/data/rna_seq_clean.csv')"
   ]
  },
  {
   "cell_type": "code",
   "execution_count": 11,
   "metadata": {},
   "outputs": [],
   "source": [
    "def cutoff_corr(corr, cutoff):\n",
    "    # Make a copy\n",
    "    df = corr.copy().T\n",
    "\n",
    "    # Replace all values below cutoff with 0\n",
    "    for col in df.columns:\n",
    "        df.loc[np.abs(df[col]) < cutoff, col] = 0\n",
    "\n",
    "    # Remove all values below cutoff from columns\n",
    "    df = df.T.loc[:, (df.T != 0).any(axis=0)]\n",
    "\n",
    "    # Remove all values below cutoff from rows\n",
    "    df = df[(df.T != 0).any()]\n",
    "    \n",
    "    return df"
   ]
  },
  {
   "cell_type": "code",
   "execution_count": 27,
   "metadata": {},
   "outputs": [],
   "source": [
    "cut_corr = cutoff_corr(corr, 0.7)"
   ]
  },
  {
   "cell_type": "code",
   "execution_count": 19,
   "metadata": {
    "scrolled": false
   },
   "outputs": [],
   "source": [
    "gene_map = pd.read_csv('/scratch/as3ek/histo_visual_recog/scripts/data/custom.txt', sep='\\t')"
   ]
  },
  {
   "cell_type": "code",
   "execution_count": 25,
   "metadata": {},
   "outputs": [],
   "source": [
    "gene_map[gene_map['Approved symbol'].isin(cut_corr.columns)].reset_index(drop=True).to_csv('/scratch/as3ek/histo_visual_recog/results/gene_high_corr_cutoff_7_names.csv', index=False)"
   ]
  },
  {
   "cell_type": "code",
   "execution_count": 26,
   "metadata": {},
   "outputs": [
    {
     "data": {
      "text/html": [
       "<div>\n",
       "<style scoped>\n",
       "    .dataframe tbody tr th:only-of-type {\n",
       "        vertical-align: middle;\n",
       "    }\n",
       "\n",
       "    .dataframe tbody tr th {\n",
       "        vertical-align: top;\n",
       "    }\n",
       "\n",
       "    .dataframe thead th {\n",
       "        text-align: right;\n",
       "    }\n",
       "</style>\n",
       "<table border=\"1\" class=\"dataframe\">\n",
       "  <thead>\n",
       "    <tr style=\"text-align: right;\">\n",
       "      <th></th>\n",
       "      <th>HGNC ID</th>\n",
       "      <th>Approved symbol</th>\n",
       "      <th>Approved name</th>\n",
       "    </tr>\n",
       "  </thead>\n",
       "  <tbody>\n",
       "    <tr>\n",
       "      <td>0</td>\n",
       "      <td>HGNC:17</td>\n",
       "      <td>AADAC</td>\n",
       "      <td>arylacetamide deacetylase</td>\n",
       "    </tr>\n",
       "    <tr>\n",
       "      <td>1</td>\n",
       "      <td>HGNC:93</td>\n",
       "      <td>ACAT1</td>\n",
       "      <td>acetyl-CoA acetyltransferase 1</td>\n",
       "    </tr>\n",
       "    <tr>\n",
       "      <td>2</td>\n",
       "      <td>HGNC:23337</td>\n",
       "      <td>ACBD4</td>\n",
       "      <td>acyl-CoA binding domain containing 4</td>\n",
       "    </tr>\n",
       "    <tr>\n",
       "      <td>3</td>\n",
       "      <td>HGNC:17195</td>\n",
       "      <td>ACRBP</td>\n",
       "      <td>acrosin binding protein</td>\n",
       "    </tr>\n",
       "    <tr>\n",
       "      <td>4</td>\n",
       "      <td>HGNC:1366</td>\n",
       "      <td>ADAMTS13</td>\n",
       "      <td>ADAM metallopeptidase with thrombospondin type...</td>\n",
       "    </tr>\n",
       "    <tr>\n",
       "      <td>...</td>\n",
       "      <td>...</td>\n",
       "      <td>...</td>\n",
       "      <td>...</td>\n",
       "    </tr>\n",
       "    <tr>\n",
       "      <td>168</td>\n",
       "      <td>HGNC:12570</td>\n",
       "      <td>UNC93A</td>\n",
       "      <td>unc-93 homolog A</td>\n",
       "    </tr>\n",
       "    <tr>\n",
       "      <td>169</td>\n",
       "      <td>HGNC:16297</td>\n",
       "      <td>UPB1</td>\n",
       "      <td>beta-ureidopropionase 1</td>\n",
       "    </tr>\n",
       "    <tr>\n",
       "      <td>170</td>\n",
       "      <td>HGNC:12618</td>\n",
       "      <td>USP2</td>\n",
       "      <td>ubiquitin specific peptidase 2</td>\n",
       "    </tr>\n",
       "    <tr>\n",
       "      <td>171</td>\n",
       "      <td>HGNC:12694</td>\n",
       "      <td>VIPR1</td>\n",
       "      <td>vasoactive intestinal peptide receptor 1</td>\n",
       "    </tr>\n",
       "    <tr>\n",
       "      <td>172</td>\n",
       "      <td>HGNC:20758</td>\n",
       "      <td>ZFYVE19</td>\n",
       "      <td>zinc finger FYVE-type containing 19</td>\n",
       "    </tr>\n",
       "  </tbody>\n",
       "</table>\n",
       "<p>173 rows × 3 columns</p>\n",
       "</div>"
      ],
      "text/plain": [
       "        HGNC ID Approved symbol  \\\n",
       "0       HGNC:17           AADAC   \n",
       "1       HGNC:93           ACAT1   \n",
       "2    HGNC:23337           ACBD4   \n",
       "3    HGNC:17195           ACRBP   \n",
       "4     HGNC:1366        ADAMTS13   \n",
       "..          ...             ...   \n",
       "168  HGNC:12570          UNC93A   \n",
       "169  HGNC:16297            UPB1   \n",
       "170  HGNC:12618            USP2   \n",
       "171  HGNC:12694           VIPR1   \n",
       "172  HGNC:20758         ZFYVE19   \n",
       "\n",
       "                                         Approved name  \n",
       "0                            arylacetamide deacetylase  \n",
       "1                       acetyl-CoA acetyltransferase 1  \n",
       "2                 acyl-CoA binding domain containing 4  \n",
       "3                              acrosin binding protein  \n",
       "4    ADAM metallopeptidase with thrombospondin type...  \n",
       "..                                                 ...  \n",
       "168                                   unc-93 homolog A  \n",
       "169                            beta-ureidopropionase 1  \n",
       "170                     ubiquitin specific peptidase 2  \n",
       "171           vasoactive intestinal peptide receptor 1  \n",
       "172                zinc finger FYVE-type containing 19  \n",
       "\n",
       "[173 rows x 3 columns]"
      ]
     },
     "execution_count": 26,
     "metadata": {},
     "output_type": "execute_result"
    }
   ],
   "source": [
    "gene_map[gene_map['Approved symbol'].isin(cut_corr.columns)].reset_index(drop=True)"
   ]
  },
  {
   "cell_type": "code",
   "execution_count": 37,
   "metadata": {},
   "outputs": [
    {
     "data": {
      "text/plain": [
       "0      -0.756\n",
       "1       0.000\n",
       "2      -0.704\n",
       "3      -0.708\n",
       "4       0.767\n",
       "        ...  \n",
       "2043    0.779\n",
       "2044   -0.762\n",
       "2045    0.760\n",
       "2046    0.000\n",
       "2047    0.768\n",
       "Name: AKR1B10, Length: 1750, dtype: float64"
      ]
     },
     "execution_count": 37,
     "metadata": {},
     "output_type": "execute_result"
    }
   ],
   "source": [
    "cut_corr['AKR1B10']"
   ]
  },
  {
   "cell_type": "code",
   "execution_count": null,
   "metadata": {},
   "outputs": [],
   "source": []
  }
 ],
 "metadata": {
  "kernelspec": {
   "display_name": "Python 3",
   "language": "python",
   "name": "python3"
  },
  "language_info": {
   "codemirror_mode": {
    "name": "ipython",
    "version": 3
   },
   "file_extension": ".py",
   "mimetype": "text/x-python",
   "name": "python",
   "nbconvert_exporter": "python",
   "pygments_lexer": "ipython3",
   "version": "3.6.6"
  }
 },
 "nbformat": 4,
 "nbformat_minor": 2
}
