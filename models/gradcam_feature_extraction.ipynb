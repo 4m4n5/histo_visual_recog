{
 "cells": [
  {
   "cell_type": "code",
   "execution_count": 1,
   "metadata": {},
   "outputs": [],
   "source": [
    "# Put these at the top of every notebook, to get automatic reloading and inline plotting\n",
    "%reload_ext autoreload\n",
    "%autoreload 2\n",
    "%matplotlib inline"
   ]
  },
  {
   "cell_type": "code",
   "execution_count": 2,
   "metadata": {},
   "outputs": [],
   "source": [
    "from fastai.vision import *\n",
    "from fastai.metrics import accuracy\n",
    "import torch\n",
    "import torch.nn as nn\n",
    "from fastai.callbacks.hooks import *"
   ]
  },
  {
   "cell_type": "code",
   "execution_count": 3,
   "metadata": {},
   "outputs": [],
   "source": [
    "PATH = \"/project/DSone/as3ek/data/patches/1000/classification/normal_zif__ee_vsi_dn/\"\n",
    "sz = 256\n",
    "tfms = get_transforms(do_flip=True, flip_vert=True, max_zoom=1.1)"
   ]
  },
  {
   "cell_type": "code",
   "execution_count": 4,
   "metadata": {},
   "outputs": [
    {
     "data": {
      "text/plain": [
       "ImageDataBunch;\n",
       "\n",
       "Train: LabelList (67248 items)\n",
       "x: ImageList\n",
       "Image (3, 256, 256),Image (3, 256, 256),Image (3, 256, 256),Image (3, 256, 256),Image (3, 256, 256)\n",
       "y: CategoryList\n",
       "Normal,Normal,Normal,Normal,Normal\n",
       "Path: /project/DSone/as3ek/data/patches/1000/classification/normal_zif__ee_vsi_dn;\n",
       "\n",
       "Valid: LabelList (6707 items)\n",
       "x: ImageList\n",
       "Image (3, 256, 256),Image (3, 256, 256),Image (3, 256, 256),Image (3, 256, 256),Image (3, 256, 256)\n",
       "y: CategoryList\n",
       "Normal,Normal,Normal,Normal,Normal\n",
       "Path: /project/DSone/as3ek/data/patches/1000/classification/normal_zif__ee_vsi_dn;\n",
       "\n",
       "Test: None"
      ]
     },
     "execution_count": 4,
     "metadata": {},
     "output_type": "execute_result"
    }
   ],
   "source": [
    "data = ImageDataBunch.from_folder(PATH, ds_tfms=tfms, size=sz)\n",
    "mean_std = data.batch_stats()\n",
    "data.normalize(mean_std)"
   ]
  },
  {
   "cell_type": "code",
   "execution_count": 7,
   "metadata": {
    "scrolled": true
   },
   "outputs": [
    {
     "data": {
      "image/png": "[encoded data removed]",
      "text/plain": [
       "<Figure size 432x288 with 1 Axes>"
      ]
     },
     "metadata": {
      "needs_background": "light"
     },
     "output_type": "display_data"
    }
   ],
   "source": [
    "learn = cnn_learner(data, models.resnet50, metrics=accuracy)\n",
    "learn.load('unfreeze101-epoch-1-meanstdnorm')\n",
    "\n",
    "interp = ClassificationInterpretation.from_learner(learn)\n",
    "losses,idxs = interp.top_losses()\n",
    "len(data.valid_ds)==len(losses)==len(idxs)\n",
    "\n",
    "interp.plot_confusion_matrix()"
   ]
  },
  {
   "cell_type": "code",
   "execution_count": 9,
   "metadata": {},
   "outputs": [],
   "source": [
    "# hook for Gradcam\n",
    "def hooked_backward(m,xb,target_layer):\n",
    "    with hook_output(target_layer) as hook_a:\n",
    "        preds = m(xb)\n",
    "        \n",
    "    return hook_a, preds"
   ]
  },
  {
   "cell_type": "code",
   "execution_count": 10,
   "metadata": {},
   "outputs": [],
   "source": [
    "def get_features(learn, x):\n",
    "    x = x.cuda()\n",
    "    m = learn.model.eval()\n",
    "    target_layer = m[0][-1][-1]\n",
    "    f, p = hooked_backward(m, x, target_layer)\n",
    "    return f, p"
   ]
  },
  {
   "cell_type": "code",
   "execution_count": 14,
   "metadata": {},
   "outputs": [],
   "source": [
    "ds = interp.data.valid_ds\n",
    "img_df = ds.to_df()\n",
    "feat_df = pd.DataFrame()\n",
    "total = len(img_df)"
   ]
  },
  {
   "cell_type": "code",
   "execution_count": 15,
   "metadata": {},
   "outputs": [
    {
     "name": "stdout",
     "output_type": "stream",
     "text": [
      "1/6707 Complete!\n",
      "1001/6707 Complete!\n",
      "2001/6707 Complete!\n",
      "3001/6707 Complete!\n",
      "4001/6707 Complete!\n",
      "5001/6707 Complete!\n",
      "6001/6707 Complete!\n"
     ]
    }
   ],
   "source": [
    "for index, row in img_df.iterrows():\n",
    "    x_img = ds.x[index]\n",
    "    xb, _ = interp.data.one_item(x_img)\n",
    "    xb_img = Image(interp.data.denorm(xb)[0])\n",
    "    name = str(row['x']).split('/')[2].split('.')[0]\n",
    "    \n",
    "    features, p = get_features(learn, xb)\n",
    "    features = features.stored[0].cpu().numpy()\n",
    "    features = features.max(1).max(1)\n",
    "    \n",
    "    tmp = pd.DataFrame(data=features).T\n",
    "    tmp['fname'] = name\n",
    "    feat_df = pd.concat([feat_df, tmp], ignore_index=True)\n",
    "    \n",
    "    if index%1000 == 0:\n",
    "        print(str(index+1) + '/' + str(total) + ' Complete!')"
   ]
  },
  {
   "cell_type": "code",
   "execution_count": 16,
   "metadata": {},
   "outputs": [],
   "source": [
    "feat_df.to_csv('/project/DSone/as3ek/data/csv_files/seem_valid_2048_features_max_normal_zif__ee_vsi_dn.csv', index=False)"
   ]
  },
  {
   "cell_type": "code",
   "execution_count": null,
   "metadata": {},
   "outputs": [],
   "source": []
  }
 ],
 "metadata": {
  "kernelspec": {
   "display_name": "Python [conda env:fastai]",
   "language": "python",
   "name": "conda-env-fastai-py"
  },
  "language_info": {
   "codemirror_mode": {
    "name": "ipython",
    "version": 3
   },
   "file_extension": ".py",
   "mimetype": "text/x-python",
   "name": "python",
   "nbconvert_exporter": "python",
   "pygments_lexer": "ipython3",
   "version": "3.6.6"
  }
 },
 "nbformat": 4,
 "nbformat_minor": 2
}
